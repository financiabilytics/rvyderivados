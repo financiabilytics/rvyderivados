{
  "nbformat": 4,
  "nbformat_minor": 0,
  "metadata": {
    "colab": {
      "name": "Untitled0.ipynb",
      "provenance": [],
      "collapsed_sections": [],
      "toc_visible": true
    },
    "kernelspec": {
      "name": "python3",
      "display_name": "Python 3"
    },
    "language_info": {
      "name": "python"
    }
  },
  "cells": [
    {
      "cell_type": "code",
      "execution_count": 1,
      "metadata": {
        "colab": {
          "base_uri": "https://localhost:8080/"
        },
        "id": "a-h0OIh5_CjE",
        "outputId": "8d08f949-7a13-4ec8-fb3c-b9e4663b478b"
      },
      "outputs": [
        {
          "output_type": "stream",
          "name": "stdout",
          "text": [
            "Collecting numpy-financial\n",
            "  Downloading numpy_financial-1.0.0-py3-none-any.whl (14 kB)\n",
            "Requirement already satisfied: numpy>=1.15 in /usr/local/lib/python3.7/dist-packages (from numpy-financial) (1.21.5)\n",
            "Installing collected packages: numpy-financial\n",
            "Successfully installed numpy-financial-1.0.0\n",
            "0.04166666666666674\n"
          ]
        }
      ],
      "source": [
        "\n",
        "\n",
        "#Práctica 1 Bonos_JCO\n",
        "\n",
        "#Lo primero que tenemos que hacer es instalar la libreria la librería numpy-financial\n",
        "!pip install numpy-financial\n",
        "\n",
        "#importamos la librería para poder acceder a sus recursos.\n",
        "import numpy_financial as npf\n",
        "\n",
        "#Lo primero que hacemos es crear los bonos A; B ; C; D; E Y X . Como bien sabemos para calcular la tir es necesario añadir el desembolso inicial y después los flujos de caja\n",
        "\n",
        "bondA = [-96,100,0,0,0,0]\n",
        "bondB = [-545,50,550,0,0,0]\n",
        "bondC = [-1030,70,70,1070,0,0]\n",
        "bondD = [-2030,150,150,150,2150,0]\n",
        "bondE = [-3920,300,300,300,300,4300]\n",
        "\n",
        "#BondX le añadimos un 0 porque no conocemos su desembolso inicial\n",
        "bondX = [0,100,100,100,100,1100]\n",
        "\n",
        "priceA = -bondA[0]\n",
        "priceB = -bondB[0]\n",
        "priceC = -bondC[0]\n",
        "priceD = -bondD[0]\n",
        "priceE = -bondE[0]\n",
        "\n",
        "#TIR\n",
        "tirA = npf.irr(bondA)\n",
        "tirB = npf.irr(bondB)\n",
        "tirC = npf.irr(bondC)\n",
        "tirD = npf.irr(bondD)\n",
        "tirE = npf.irr(bondE)\n",
        "\n",
        "#Usamos print para ver el calculo de la tirA y corroborar que es correcto \n",
        "print(tirA)\n",
        "\n",
        "#Para solucionar las incognitas del bono X necesitamos tener la la curva de rendimientos calculada y para ellos la vamos a construir. La del año 1 es igual a la Tir y para los siguientes años usamos un factor de descuento.\n",
        "\n",
        "yieldcurve = [tirA,0,0,0,0]\n",
        "\n",
        "#definimos la función que calcula la ETTI para cualquier año y bono que deseemos\n",
        "#FCID significa: flujos de caja intermedios descontados\n",
        "#es decir, el valor actual de los cupones de cada bono\n",
        "def calculate_yc(bond,yieldcurve ):\n",
        "    n = [i for i, e in enumerate(bond) if e != 0][-1]\n",
        "    ultimo_flujo = bond[n]\n",
        "    price = -bond[0]\n",
        "    fcid = 0\n",
        "    for i in range(1,n):\n",
        "        fcid += bond[i] / (1+yieldcurve[i-1])**i\n",
        "    return (ultimo_flujo / (price - fcid))**(1/n)-1\n",
        "\n",
        "#Ahora calculamos la curva de rendimientos para los bonos que nos faltan con la función que hemos creado\n",
        "yieldcurve[1] = calculate_yc(bondB, yieldcurve)\n",
        "yieldcurve[2] = calculate_yc(bondC, yieldcurve)\n",
        "yieldcurve[3] = calculate_yc(bondD, yieldcurve)\n",
        "yieldcurve[4] = calculate_yc(bondE, yieldcurve)\n",
        "\n",
        "\n",
        "#Ahora que tenemos la curva de rendimiento vamos a calcular el bono que nos falta\n",
        "def cal_price(flujos, interés):\n",
        "    precio = 0\n",
        "    for i in range(1, len(flujos)):\n",
        "        precio += flujos[i] * (1+interés[i-1])**-i\n",
        "    return precio\n",
        "#precio\n",
        "precioX = cal_price(bondX, yieldcurve)\n",
        "\n",
        "#añadimos el desembolso\n",
        "bondX[0] = -precioX\n",
        "\n",
        "#TIR de x\n",
        "tirX = npf.irr(bondX)"
      ]
    }
  ]
}
